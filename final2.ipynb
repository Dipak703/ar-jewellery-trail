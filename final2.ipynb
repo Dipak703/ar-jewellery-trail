{
 "cells": [
  {
   "cell_type": "code",
   "execution_count": 1,
   "id": "59424d9f-ee38-4b68-a9ec-d63cf8ec0c52",
   "metadata": {},
   "outputs": [],
   "source": [
    "import cv2\n",
    "import mediapipe as mp\n",
    "import numpy as np\n"
   ]
  },
  {
   "cell_type": "code",
   "execution_count": 2,
   "id": "04a6c2f5-0b7e-4d72-9ec1-cbd9a0c0b9a6",
   "metadata": {},
   "outputs": [],
   "source": [
    "mp_drawing=mp.solutions.drawing_utils\n",
    "mp_pose=mp.solutions.pose"
   ]
  },
  {
   "cell_type": "code",
   "execution_count": 3,
   "id": "0549d51b-bd88-4807-b18d-93ca4bf046d3",
   "metadata": {},
   "outputs": [],
   "source": [
    "def dist(a,b):\n",
    "    dis = ((a[0]-b[0])**2+(a[1]-b[1])**2)**0.5\n",
    "    return dis"
   ]
  },
  {
   "cell_type": "code",
   "execution_count": 4,
   "id": "dda7cb33-2c25-4ce0-a50e-dd5f65873aa8",
   "metadata": {},
   "outputs": [
    {
     "data": {
      "text/plain": [
       "'uncomment this when you have multiple product images  '"
      ]
     },
     "execution_count": 4,
     "metadata": {},
     "output_type": "execute_result"
    }
   ],
   "source": [
    "'''uncomment this when you have multiple product images  '''\n",
    "# mask_image = input(\"Enter the name of the jewellary:  \")\n",
    "# mask_image = mask_image + \".png\""
   ]
  },
  {
   "cell_type": "code",
   "execution_count": 5,
   "id": "d8e8bf63-f0ee-4b73-9ffe-5fcf2cd8ef47",
   "metadata": {},
   "outputs": [],
   "source": [
    "jewelry_image = cv2.imread(\"jewellery.png\", cv2.IMREAD_UNCHANGED)\n",
    "\n",
    "# Function to overlay image\n",
    "def overlay_image(background, overlay, pos, overlay_size):\n",
    "    x, y = pos\n",
    "    overlay = cv2.resize(overlay, overlay_size)\n",
    "\n",
    "    # Ensure overlay image is in the correct format\n",
    "    if overlay.shape[2] == 4:  # Check if overlay has an alpha channel\n",
    "        overlay_image = overlay[..., :3]\n",
    "        mask = overlay[..., 3:]\n",
    "    else:\n",
    "        overlay_image = overlay\n",
    "        mask = np.ones(overlay_image.shape[:2], dtype=np.uint8) * 255  # Create a mask of all 255 (opaque)\n",
    "\n",
    "    h, w, _ = overlay_image.shape\n",
    "    roi = background[y:y+h, x:x+w]\n",
    "\n",
    "    # Use alpha blending\n",
    "    try:\n",
    "        mask_inv = cv2.bitwise_not(mask)\n",
    "        roi_bg = cv2.bitwise_and(roi, roi, mask=mask_inv)\n",
    "        roi_fg = cv2.bitwise_and(overlay_image, overlay_image, mask=mask)\n",
    "\n",
    "        background[y:y+h, x:x+w] = cv2.add(roi_bg, roi_fg)\n",
    "    except:\n",
    "        pass"
   ]
  },
  {
   "cell_type": "code",
   "execution_count": 6,
   "id": "40c62f45-fd62-48ef-99d2-4d5dffffe7d5",
   "metadata": {},
   "outputs": [
    {
     "name": "stderr",
     "output_type": "stream",
     "text": [
      "C:\\Users\\dipak\\AppData\\Roaming\\Python\\Python312\\site-packages\\google\\protobuf\\symbol_database.py:55: UserWarning: SymbolDatabase.GetPrototype() is deprecated. Please use message_factory.GetMessageClass() instead. SymbolDatabase.GetPrototype() will be removed soon.\n",
      "  warnings.warn('SymbolDatabase.GetPrototype() is deprecated. Please '\n"
     ]
    }
   ],
   "source": [
    "cap=cv2.VideoCapture(0)\n",
    "with mp_pose.Pose(min_detection_confidence=0.5,min_tracking_confidence=0.5) as pose:\n",
    "    \n",
    "    while cap.isOpened():\n",
    "        ret,frame=cap.read()\n",
    "         #img process\n",
    "        img=cv2.cvtColor(frame,cv2.COLOR_BGR2RGB)\n",
    "        img.flags.writeable = False\n",
    "        result = pose.process(img)\n",
    "        img.flags.writeable = True\n",
    "        img=cv2.cvtColor(img,cv2.COLOR_RGB2BGR)\n",
    "        mp_drawing.draw_landmarks(img,result.pose_landmarks,mp_pose.POSE_CONNECTIONS)\n",
    "        try:    \n",
    "            data = result.pose_landmarks.landmark\n",
    "            w,h,_= img.shape\n",
    "            left_sh = data[11]\n",
    "            right_sh = data[12]\n",
    "            mouth = data[9]\n",
    "            r_mouth=data[10]\n",
    "            r_ear = data[8]\n",
    "            l_ear = data[7]\n",
    "            nose = data[0]\n",
    "                # Convert normalized positions to pixel values\n",
    "            left_sh_pos = (int(left_sh.x * w), int(left_sh.y * h))\n",
    "            right_sh_pos = (int(right_sh.x * w), int(right_sh.y * h))\n",
    "            # loc = (int((left_sh.x+right_sh.x)/1.9 * w),int(mouth.y*h-50*left_sh.z))\n",
    "            loc = (int((l_ear.x) * w),int(((left_sh.y+r_mouth.y)/2.87)*h))\n",
    "    \n",
    "    \n",
    "                # Calculate distance between eyes to determine the size of the jewelry\n",
    "            sh_distance = dist(left_sh_pos,right_sh_pos)\n",
    "            overlay_size = (int(sh_distance/1.5), int(sh_distance/1.5))\n",
    "                \n",
    "                # Overlay the jewelry image\n",
    "            overlay_image(img, jewelry_image, loc, overlay_size)\n",
    "            \n",
    "        except:\n",
    "            pass\n",
    "\n",
    "        cv2.imshow('Jewellery traial', cv2.flip(img, 1))        \n",
    "        if cv2.waitKey(5) & 0xFF == ord('q'):\n",
    "            break\n",
    "\n",
    "cap.release()\n",
    "cv2.destroyAllWindows()"
   ]
  },
  {
   "cell_type": "code",
   "execution_count": 7,
   "id": "cd772131",
   "metadata": {},
   "outputs": [
    {
     "data": {
      "text/plain": [
       "(480, 640, 3)"
      ]
     },
     "execution_count": 7,
     "metadata": {},
     "output_type": "execute_result"
    }
   ],
   "source": [
    "frame.shape"
   ]
  },
  {
   "cell_type": "code",
   "execution_count": 8,
   "id": "53784380",
   "metadata": {},
   "outputs": [
    {
     "data": {
      "text/plain": [
       "x: 0.770530581\n",
       "y: 0.274681538\n",
       "z: -0.337347418\n",
       "visibility: 0.999131918"
      ]
     },
     "execution_count": 8,
     "metadata": {},
     "output_type": "execute_result"
    }
   ],
   "source": [
    "l_ear"
   ]
  },
  {
   "cell_type": "code",
   "execution_count": 9,
   "id": "f6c2e04f",
   "metadata": {},
   "outputs": [
    {
     "data": {
      "text/plain": [
       "x: 0.770530581\n",
       "y: 0.274681538\n",
       "z: -0.337347418\n",
       "visibility: 0.999131918"
      ]
     },
     "execution_count": 9,
     "metadata": {},
     "output_type": "execute_result"
    }
   ],
   "source": [
    "l_ear"
   ]
  },
  {
   "cell_type": "code",
   "execution_count": 10,
   "id": "aeb3f46e",
   "metadata": {},
   "outputs": [
    {
     "data": {
      "text/plain": [
       "x: 0.770530581\n",
       "y: 0.274681538\n",
       "z: -0.337347418\n",
       "visibility: 0.999131918"
      ]
     },
     "execution_count": 10,
     "metadata": {},
     "output_type": "execute_result"
    }
   ],
   "source": [
    "l_ear"
   ]
  },
  {
   "cell_type": "code",
   "execution_count": 11,
   "id": "abc2174c",
   "metadata": {},
   "outputs": [
    {
     "data": {
      "text/plain": [
       "x: 0.770530581\n",
       "y: 0.274681538\n",
       "z: -0.337347418\n",
       "visibility: 0.999131918"
      ]
     },
     "execution_count": 11,
     "metadata": {},
     "output_type": "execute_result"
    }
   ],
   "source": [
    "l_ear"
   ]
  }
 ],
 "metadata": {
  "kernelspec": {
   "display_name": "Python 3 (ipykernel)",
   "language": "python",
   "name": "python3"
  },
  "language_info": {
   "codemirror_mode": {
    "name": "ipython",
    "version": 3
   },
   "file_extension": ".py",
   "mimetype": "text/x-python",
   "name": "python",
   "nbconvert_exporter": "python",
   "pygments_lexer": "ipython3",
   "version": "3.12.3"
  }
 },
 "nbformat": 4,
 "nbformat_minor": 5
}
